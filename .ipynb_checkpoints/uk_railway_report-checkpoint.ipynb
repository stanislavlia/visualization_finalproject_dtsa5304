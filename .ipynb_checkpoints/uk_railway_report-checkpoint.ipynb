{
 "cells": [
  {
   "cell_type": "markdown",
   "id": "cf442aca-598d-4556-8fc8-d8826d11757d",
   "metadata": {},
   "source": [
    "\n",
    "\n",
    "<img src=\"assets/uk_railways.jpg\" alt=\"Prototype 3\" width=\"600\" height=\"200\">\n",
    "\n",
    "# UK Railways Ticket Price Dashboard\n",
    "DTSA5304\n",
    "\n",
    "**Stanislav Liashkov**  2024.07.05\n"
   ]
  },
  {
   "cell_type": "markdown",
   "id": "38d6fe2c-b594-4821-9648-ecd6f61245d3",
   "metadata": {},
   "source": [
    "## Introduction\n",
    "\n",
    "This project starts with the basic exploratory data analysis in order to see what kind of data we have and what dimensions\n",
    "are potentially to be the most interesting for *Railway management and stakeholders*. The **goal** of this project is to *design and evaluate a dashboard for monitoring ticket price distribution for different trips*. In this project, **visual task** that we optimize our dashboard for is \"*to discover bussiness-valuable inisghts from data related to ticket price, classes of passengers and payment methods and to be able to quickly get the summary picture for any route*\". \n",
    "\n",
    "In order to achive the goal and help users complete *visual task*, I have prepared a few **Low-fidelity prototypes** of dashboard and select the most suitable one. Once I decided which prototype should be taken, I started to design the dashboard with *more details* and finally implemented the dashboard using **Altair and Streamlit**.\n",
    "\n"
   ]
  },
  {
   "cell_type": "markdown",
   "id": "80832ddc-9331-424d-ad52-49b851bf5c5a",
   "metadata": {},
   "source": [
    "## Data\n",
    "\n",
    "The dataset comes from **Kaggle** ( https://www.kaggle.com/datasets/motsimaslam/national-rail-uk-train-ticket-data) and contains data about **UK Railways Train Tickets** such as *ticket price, type of ticket, payment method, passenger class* etc, **spanning from January to April 2024**. It includes detailed information on various aspects of train journeys, providing insights into the travel patterns and pricing within this period. The dataset encompasses the following key attributes:\n",
    "\n",
    "- **Ticket Type**: The category of the ticket, such as single, return, or season.\n",
    "- **Journey Date & Time**: The date and time for each train journey, including both departure and arrival times.\n",
    "- **Departure Station**: The station from which the journey originates.\n",
    "- **Arrival Station**: The station at which the journey concludes.\n",
    "- **Ticket Price**: The cost of the ticket in GBP.\n",
    "- **Other Details**: Additional information that might include passenger class, train service provider, booking reference, and any applicable discounts or offers.\n",
    "\n",
    "\n",
    "\n"
   ]
  },
  {
   "cell_type": "code",
   "execution_count": 2,
   "id": "a66d844b-5c57-4bd2-9a99-5780e337dcf2",
   "metadata": {},
   "outputs": [
    {
     "name": "stdout",
     "output_type": "stream",
     "text": [
      "<class 'pandas.core.frame.DataFrame'>\n",
      "RangeIndex: 31653 entries, 0 to 31652\n",
      "Data columns (total 18 columns):\n",
      " #   Column               Non-Null Count  Dtype \n",
      "---  ------               --------------  ----- \n",
      " 0   Transaction ID       31653 non-null  object\n",
      " 1   Date of Purchase     31653 non-null  object\n",
      " 2   Time of Purchase     31653 non-null  object\n",
      " 3   Purchase Type        31653 non-null  object\n",
      " 4   Payment Method       31653 non-null  object\n",
      " 5   Railcard             10735 non-null  object\n",
      " 6   Ticket Class         31653 non-null  object\n",
      " 7   Ticket Type          31653 non-null  object\n",
      " 8   Price                31653 non-null  int64 \n",
      " 9   Departure Station    31653 non-null  object\n",
      " 10  Arrival Destination  31653 non-null  object\n",
      " 11  Date of Journey      31653 non-null  object\n",
      " 12  Departure Time       31653 non-null  object\n",
      " 13  Arrival Time         31653 non-null  object\n",
      " 14  Actual Arrival Time  29773 non-null  object\n",
      " 15  Journey Status       31653 non-null  object\n",
      " 16  Reason for Delay     4172 non-null   object\n",
      " 17  Refund Request       31653 non-null  object\n",
      "dtypes: int64(1), object(17)\n",
      "memory usage: 4.3+ MB\n"
     ]
    }
   ],
   "source": [
    "import pandas as pd\n",
    "\n",
    "df = pd.read_csv(\"railway.csv\")\n",
    "df.info()"
   ]
  },
  {
   "cell_type": "markdown",
   "id": "7a5ddc30-7f74-40bf-bf1f-c3b41a535a96",
   "metadata": {},
   "source": [
    "The **key dimensions** for our defined **visual task** are going to be:\n",
    "- Ticket Price\n",
    "- Purchase Type\n",
    "- Ticket Class\n",
    "- Ticket Type\n",
    "- Source & Destination"
   ]
  },
  {
   "cell_type": "markdown",
   "id": "3409f14b-e363-4ff9-a3ff-5af928c9875c",
   "metadata": {},
   "source": [
    "## Sketching prototypes and Designing dashboard\n",
    "\n",
    "### Low-fidelity Prototypes\n",
    "<figure>\n",
    "  <img src=\"assets/prototype1.jpeg\" alt=\"Prototype 1\" width=\"500\" height=\"300\">\n",
    "  <figcaption><b>Prototype 1:</b> Blue colors, barcharts </figcaption>\n",
    "</figure>\n",
    "\n",
    "<figure>\n",
    "  <img src=\"assets/prototype2.jpeg\" alt=\"Prototype 2\" width=\"500\" height=\"300\">\n",
    "  <figcaption><b>Prototype 2:</b> Green colors, smooth histogram + pies</figcaption>\n",
    "</figure>\n",
    "\n",
    "<figure>\n",
    "  <img src=\"assets/prototype3.jpeg\" alt=\"Prototype 3\" width=\"500\" height=\"300\">\n",
    "  <figcaption><b>Prototype 3:</b> Yellow colors, binned histogram + pies</figcaption>\n",
    "</figure>\n",
    "\n"
   ]
  },
  {
   "cell_type": "markdown",
   "id": "daa7e5e0-395f-4d73-a297-427babc19c3f",
   "metadata": {},
   "source": [
    "#### Discussion and selection\n",
    "I've come up with 3 slightly different sketches that can potentially become a prototype for our dashboard. They all share similar goals to show stakeholders **distribution of ticket price along with additional categorical data (Ticket Class and Type, Purchase Type) and option to select any Source and Destination.** The sketched dashboard differ in coloring, positions of plots and type of plots. Let's discuss which prototype should be chosen.\n",
    "\n",
    "Among all prototypes, I would like to choose **the third (yellow) one** for several reasons:\n",
    "- Yellow/Golden color fits better as it is associated with money or value (in my opinion)\n",
    "- Average manager likely finds it simpler to interpret binned discrete histogram rather than density plot\n",
    "- Pie charts fit better than barplots because it is easier to see what category in what fraction contribute to the whole\n",
    "- Select source and select destination buttons are positioned in more natural way (from top to bottom)\n",
    "\n",
    "I have to point out that in any case, our selected prototype is likely not perfect and have its disadvantages, though for now, we consider this prototype as a good starting point. One additional improvement for this prototype might be some indicator that shows the **average ticker price** because it is likely an important information (It can be inferred from histogram, but you need to put a bit of effort).\n",
    "\n",
    "Now, it is time to get to implementation of the dashboard."
   ]
  },
  {
   "cell_type": "code",
   "execution_count": null,
   "id": "5f84f6d3-d13f-4e82-a51c-1dc4381d1c52",
   "metadata": {},
   "outputs": [],
   "source": []
  },
  {
   "cell_type": "code",
   "execution_count": null,
   "id": "c8e1beff-a169-44b1-8413-cd331e59ba86",
   "metadata": {},
   "outputs": [],
   "source": []
  },
  {
   "cell_type": "code",
   "execution_count": null,
   "id": "bab30638-95f7-42cf-a10c-aeea69ebb16d",
   "metadata": {},
   "outputs": [],
   "source": []
  },
  {
   "cell_type": "code",
   "execution_count": null,
   "id": "f9b1f05a-b639-4dbd-af60-d6ea812c0d8a",
   "metadata": {},
   "outputs": [],
   "source": []
  },
  {
   "cell_type": "markdown",
   "id": "c78f9acb-5929-4b56-94e7-be470b5709db",
   "metadata": {},
   "source": [
    "https://www.youtube.com/watch?v=pWxDxhWXJos"
   ]
  },
  {
   "cell_type": "code",
   "execution_count": 3,
   "id": "692ad579-acba-4525-951f-c53a79b5afe8",
   "metadata": {},
   "outputs": [
    {
     "data": {
      "text/plain": [
       "Index(['Transaction ID', 'Date of Purchase', 'Time of Purchase',\n",
       "       'Purchase Type', 'Payment Method', 'Railcard', 'Ticket Class',\n",
       "       'Ticket Type', 'Price', 'Departure Station', 'Arrival Destination',\n",
       "       'Date of Journey', 'Departure Time', 'Arrival Time',\n",
       "       'Actual Arrival Time', 'Journey Status', 'Reason for Delay',\n",
       "       'Refund Request'],\n",
       "      dtype='object')"
      ]
     },
     "execution_count": 3,
     "metadata": {},
     "output_type": "execute_result"
    }
   ],
   "source": [
    "df.columns"
   ]
  },
  {
   "cell_type": "markdown",
   "id": "cafe7096-a636-4e02-bf4c-601afe1ff4cc",
   "metadata": {},
   "source": [
    "## TODO\n",
    "1) Add 5W vector that describes task and answer WHO, WHAT, WHY etc questions\n",
    "2) Filter Destinations with very low number of trips. Leave only most popular\n",
    "3) Choose a prototype\n",
    "4) Implement dashboard\n",
    "   \n"
   ]
  },
  {
   "cell_type": "code",
   "execution_count": 6,
   "id": "7f5677b2-ecaa-4468-92fa-8948f6450628",
   "metadata": {},
   "outputs": [],
   "source": [
    "df[\"route\"] = df[\"Departure Station\"] +  \" -> \"+ df[\"Arrival Destination\"]"
   ]
  },
  {
   "cell_type": "code",
   "execution_count": 16,
   "id": "053cdab4-5d10-4c5e-8df5-4931abff75f7",
   "metadata": {},
   "outputs": [
    {
     "data": {
      "text/html": [
       "<div>\n",
       "<style scoped>\n",
       "    .dataframe tbody tr th:only-of-type {\n",
       "        vertical-align: middle;\n",
       "    }\n",
       "\n",
       "    .dataframe tbody tr th {\n",
       "        vertical-align: top;\n",
       "    }\n",
       "\n",
       "    .dataframe thead th {\n",
       "        text-align: right;\n",
       "    }\n",
       "</style>\n",
       "<table border=\"1\" class=\"dataframe\">\n",
       "  <thead>\n",
       "    <tr style=\"text-align: right;\">\n",
       "      <th></th>\n",
       "      <th>route</th>\n",
       "      <th>Transaction ID</th>\n",
       "    </tr>\n",
       "  </thead>\n",
       "  <tbody>\n",
       "    <tr>\n",
       "      <th>40</th>\n",
       "      <td>Manchester Piccadilly -&gt; Liverpool Lime Street</td>\n",
       "      <td>4628</td>\n",
       "    </tr>\n",
       "    <tr>\n",
       "      <th>24</th>\n",
       "      <td>London Euston -&gt; Birmingham New Street</td>\n",
       "      <td>4209</td>\n",
       "    </tr>\n",
       "    <tr>\n",
       "      <th>30</th>\n",
       "      <td>London Kings Cross -&gt; York</td>\n",
       "      <td>3922</td>\n",
       "    </tr>\n",
       "    <tr>\n",
       "      <th>35</th>\n",
       "      <td>London Paddington -&gt; Reading</td>\n",
       "      <td>3873</td>\n",
       "    </tr>\n",
       "    <tr>\n",
       "      <th>36</th>\n",
       "      <td>London St Pancras -&gt; Birmingham New Street</td>\n",
       "      <td>3471</td>\n",
       "    </tr>\n",
       "    <tr>\n",
       "      <th>...</th>\n",
       "      <td>...</td>\n",
       "      <td>...</td>\n",
       "    </tr>\n",
       "    <tr>\n",
       "      <th>60</th>\n",
       "      <td>York -&gt; Edinburgh Waverley</td>\n",
       "      <td>15</td>\n",
       "    </tr>\n",
       "    <tr>\n",
       "      <th>47</th>\n",
       "      <td>Manchester Piccadilly -&gt; Warrington</td>\n",
       "      <td>15</td>\n",
       "    </tr>\n",
       "    <tr>\n",
       "      <th>62</th>\n",
       "      <td>York -&gt; Liverpool Lime Street</td>\n",
       "      <td>15</td>\n",
       "    </tr>\n",
       "    <tr>\n",
       "      <th>64</th>\n",
       "      <td>York -&gt; Wakefield</td>\n",
       "      <td>15</td>\n",
       "    </tr>\n",
       "    <tr>\n",
       "      <th>16</th>\n",
       "      <td>Liverpool Lime Street -&gt; Birmingham New Street</td>\n",
       "      <td>14</td>\n",
       "    </tr>\n",
       "  </tbody>\n",
       "</table>\n",
       "<p>65 rows × 2 columns</p>\n",
       "</div>"
      ],
      "text/plain": [
       "                                             route  Transaction ID\n",
       "40  Manchester Piccadilly -> Liverpool Lime Street            4628\n",
       "24          London Euston -> Birmingham New Street            4209\n",
       "30                      London Kings Cross -> York            3922\n",
       "35                    London Paddington -> Reading            3873\n",
       "36      London St Pancras -> Birmingham New Street            3471\n",
       "..                                             ...             ...\n",
       "60                      York -> Edinburgh Waverley              15\n",
       "47             Manchester Piccadilly -> Warrington              15\n",
       "62                   York -> Liverpool Lime Street              15\n",
       "64                               York -> Wakefield              15\n",
       "16  Liverpool Lime Street -> Birmingham New Street              14\n",
       "\n",
       "[65 rows x 2 columns]"
      ]
     },
     "execution_count": 16,
     "metadata": {},
     "output_type": "execute_result"
    }
   ],
   "source": []
  },
  {
   "cell_type": "code",
   "execution_count": 24,
   "id": "4e8f20c6-167d-46cb-b985-a0a98c2ebd47",
   "metadata": {},
   "outputs": [
    {
     "data": {
      "text/html": [
       "<div>\n",
       "<style scoped>\n",
       "    .dataframe tbody tr th:only-of-type {\n",
       "        vertical-align: middle;\n",
       "    }\n",
       "\n",
       "    .dataframe tbody tr th {\n",
       "        vertical-align: top;\n",
       "    }\n",
       "\n",
       "    .dataframe thead th {\n",
       "        text-align: right;\n",
       "    }\n",
       "</style>\n",
       "<table border=\"1\" class=\"dataframe\">\n",
       "  <thead>\n",
       "    <tr style=\"text-align: right;\">\n",
       "      <th></th>\n",
       "      <th>route</th>\n",
       "      <th>Transaction ID</th>\n",
       "    </tr>\n",
       "  </thead>\n",
       "  <tbody>\n",
       "    <tr>\n",
       "      <th>40</th>\n",
       "      <td>Manchester Piccadilly -&gt; Liverpool Lime Street</td>\n",
       "      <td>4628</td>\n",
       "    </tr>\n",
       "    <tr>\n",
       "      <th>24</th>\n",
       "      <td>London Euston -&gt; Birmingham New Street</td>\n",
       "      <td>4209</td>\n",
       "    </tr>\n",
       "    <tr>\n",
       "      <th>30</th>\n",
       "      <td>London Kings Cross -&gt; York</td>\n",
       "      <td>3922</td>\n",
       "    </tr>\n",
       "    <tr>\n",
       "      <th>35</th>\n",
       "      <td>London Paddington -&gt; Reading</td>\n",
       "      <td>3873</td>\n",
       "    </tr>\n",
       "    <tr>\n",
       "      <th>36</th>\n",
       "      <td>London St Pancras -&gt; Birmingham New Street</td>\n",
       "      <td>3471</td>\n",
       "    </tr>\n",
       "    <tr>\n",
       "      <th>22</th>\n",
       "      <td>Liverpool Lime Street -&gt; Manchester Piccadilly</td>\n",
       "      <td>3002</td>\n",
       "    </tr>\n",
       "    <tr>\n",
       "      <th>19</th>\n",
       "      <td>Liverpool Lime Street -&gt; London Euston</td>\n",
       "      <td>1097</td>\n",
       "    </tr>\n",
       "    <tr>\n",
       "      <th>25</th>\n",
       "      <td>London Euston -&gt; Manchester Piccadilly</td>\n",
       "      <td>712</td>\n",
       "    </tr>\n",
       "  </tbody>\n",
       "</table>\n",
       "</div>"
      ],
      "text/plain": [
       "                                             route  Transaction ID\n",
       "40  Manchester Piccadilly -> Liverpool Lime Street            4628\n",
       "24          London Euston -> Birmingham New Street            4209\n",
       "30                      London Kings Cross -> York            3922\n",
       "35                    London Paddington -> Reading            3873\n",
       "36      London St Pancras -> Birmingham New Street            3471\n",
       "22  Liverpool Lime Street -> Manchester Piccadilly            3002\n",
       "19          Liverpool Lime Street -> London Euston            1097\n",
       "25          London Euston -> Manchester Piccadilly             712"
      ]
     },
     "execution_count": 24,
     "metadata": {},
     "output_type": "execute_result"
    }
   ],
   "source": [
    "df.groupby(\"route\").count()[\"Transaction ID\"].reset_index().sort_values(by=\"Transaction ID\")[::-1][:8]"
   ]
  },
  {
   "cell_type": "code",
   "execution_count": 33,
   "id": "3a8c2678-8490-4da8-a7dc-306f39c68d00",
   "metadata": {},
   "outputs": [
    {
     "data": {
      "text/plain": [
       "Index(['Manchester Piccadilly', 'London Euston', 'Liverpool Lime Street',\n",
       "       'London Paddington', 'London Kings Cross'],\n",
       "      dtype='object', name='Departure Station')"
      ]
     },
     "execution_count": 33,
     "metadata": {},
     "output_type": "execute_result"
    }
   ],
   "source": [
    "df.groupby(\"Departure Station\").count()[\"Transaction ID\"].sort_values()[::-1].index[:5]"
   ]
  },
  {
   "cell_type": "code",
   "execution_count": 22,
   "id": "895ed278-db0a-4266-b962-7e142a33e31b",
   "metadata": {},
   "outputs": [
    {
     "data": {
      "text/plain": [
       "{'Birmingham New Street',\n",
       " 'Bristol Temple Meads',\n",
       " 'Cardiff Central',\n",
       " 'Coventry',\n",
       " 'Crewe',\n",
       " 'Didcot',\n",
       " 'Doncaster',\n",
       " 'Durham',\n",
       " 'Edinburgh',\n",
       " 'Edinburgh Waverley',\n",
       " 'Leeds',\n",
       " 'Leicester',\n",
       " 'Liverpool Lime Street',\n",
       " 'London Euston',\n",
       " 'London Kings Cross',\n",
       " 'London Paddington',\n",
       " 'London St Pancras',\n",
       " 'London Waterloo',\n",
       " 'Manchester Piccadilly',\n",
       " 'Nottingham',\n",
       " 'Nuneaton',\n",
       " 'Oxford',\n",
       " 'Peterborough',\n",
       " 'Reading',\n",
       " 'Sheffield',\n",
       " 'Stafford',\n",
       " 'Swindon',\n",
       " 'Tamworth',\n",
       " 'Wakefield',\n",
       " 'Warrington',\n",
       " 'Wolverhampton',\n",
       " 'York'}"
      ]
     },
     "execution_count": 22,
     "metadata": {},
     "output_type": "execute_result"
    }
   ],
   "source": [
    "set(df[\"Arrival Destination\"].unique().tolist() + df[\"Departure Station\"].unique().tolist())"
   ]
  },
  {
   "cell_type": "code",
   "execution_count": null,
   "id": "4a9ffe1c-b186-4219-8ea8-1bcecc92554e",
   "metadata": {},
   "outputs": [],
   "source": []
  }
 ],
 "metadata": {
  "kernelspec": {
   "display_name": "Python 3 (ipykernel)",
   "language": "python",
   "name": "python3"
  },
  "language_info": {
   "codemirror_mode": {
    "name": "ipython",
    "version": 3
   },
   "file_extension": ".py",
   "mimetype": "text/x-python",
   "name": "python",
   "nbconvert_exporter": "python",
   "pygments_lexer": "ipython3",
   "version": "3.10.12"
  }
 },
 "nbformat": 4,
 "nbformat_minor": 5
}
