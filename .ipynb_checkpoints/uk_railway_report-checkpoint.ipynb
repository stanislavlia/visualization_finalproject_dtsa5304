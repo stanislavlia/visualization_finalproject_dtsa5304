{
 "cells": [
  {
   "cell_type": "code",
   "execution_count": 2,
   "id": "a66d844b-5c57-4bd2-9a99-5780e337dcf2",
   "metadata": {},
   "outputs": [],
   "source": [
    "import altair as alt\n",
    "import pandas as pd\n",
    "\n"
   ]
  },
  {
   "cell_type": "markdown",
   "id": "f52e7bbe-2372-4dc7-b343-48cdd73e46e1",
   "metadata": {},
   "source": [
    "**Kaggle source**:  https://www.kaggle.com/datasets/motsimaslam/national-rail-uk-train-ticket-data"
   ]
  },
  {
   "cell_type": "code",
   "execution_count": 3,
   "id": "584f1728-cd66-4575-840a-c84df0eaf7ee",
   "metadata": {},
   "outputs": [],
   "source": [
    "df = pd.read_csv(\"railway.csv\")"
   ]
  },
  {
   "cell_type": "code",
   "execution_count": 21,
   "id": "e4afe77b-59b1-44c5-87ea-ecb8d522cc2e",
   "metadata": {},
   "outputs": [
    {
     "name": "stdout",
     "output_type": "stream",
     "text": [
      "<class 'pandas.core.frame.DataFrame'>\n",
      "RangeIndex: 31653 entries, 0 to 31652\n",
      "Data columns (total 18 columns):\n",
      " #   Column               Non-Null Count  Dtype \n",
      "---  ------               --------------  ----- \n",
      " 0   Transaction ID       31653 non-null  object\n",
      " 1   Date of Purchase     31653 non-null  object\n",
      " 2   Time of Purchase     31653 non-null  object\n",
      " 3   Purchase Type        31653 non-null  object\n",
      " 4   Payment Method       31653 non-null  object\n",
      " 5   Railcard             10735 non-null  object\n",
      " 6   Ticket Class         31653 non-null  object\n",
      " 7   Ticket Type          31653 non-null  object\n",
      " 8   Price                31653 non-null  int64 \n",
      " 9   Departure Station    31653 non-null  object\n",
      " 10  Arrival Destination  31653 non-null  object\n",
      " 11  Date of Journey      31653 non-null  object\n",
      " 12  Departure Time       31653 non-null  object\n",
      " 13  Arrival Time         31653 non-null  object\n",
      " 14  Actual Arrival Time  29773 non-null  object\n",
      " 15  Journey Status       31653 non-null  object\n",
      " 16  Reason for Delay     4172 non-null   object\n",
      " 17  Refund Request       31653 non-null  object\n",
      "dtypes: int64(1), object(17)\n",
      "memory usage: 4.3+ MB\n"
     ]
    }
   ],
   "source": [
    "df.info()"
   ]
  },
  {
   "cell_type": "markdown",
   "id": "f6542c2d-d056-48e0-a8c9-1e9ba891e1b6",
   "metadata": {},
   "source": [
    "**Visual task**:\n",
    "\n",
    "   We want to have a summary dashboard that allow us to see the distribution of ticket prices along with \n",
    "   information about distribution of different categories like *Purchase type, Ticket class and Ticket type*.\n",
    "   We want to build a dashboard that allows us to see statistics for any route."
   ]
  },
  {
   "cell_type": "markdown",
   "id": "c78f9acb-5929-4b56-94e7-be470b5709db",
   "metadata": {},
   "source": [
    "https://www.youtube.com/watch?v=pWxDxhWXJos"
   ]
  },
  {
   "cell_type": "code",
   "execution_count": 13,
   "id": "e94d023b-5504-49e7-ab71-e9515d85ea1f",
   "metadata": {},
   "outputs": [
    {
     "data": {
      "text/plain": [
       "Ticket Class\n",
       "First Class    48.855134\n",
       "Standard       20.721175\n",
       "Name: Price, dtype: float64"
      ]
     },
     "execution_count": 13,
     "metadata": {},
     "output_type": "execute_result"
    }
   ],
   "source": [
    "df.groupby(\"Ticket Class\")[\"Price\"].mean()"
   ]
  },
  {
   "cell_type": "code",
   "execution_count": 6,
   "id": "692ad579-acba-4525-951f-c53a79b5afe8",
   "metadata": {},
   "outputs": [
    {
     "data": {
      "text/plain": [
       "Index(['Transaction ID', 'Date of Purchase', 'Time of Purchase',\n",
       "       'Purchase Type', 'Payment Method', 'Railcard', 'Ticket Class',\n",
       "       'Ticket Type', 'Price', 'Departure Station', 'Arrival Destination',\n",
       "       'Date of Journey', 'Departure Time', 'Arrival Time',\n",
       "       'Actual Arrival Time', 'Journey Status', 'Reason for Delay',\n",
       "       'Refund Request'],\n",
       "      dtype='object')"
      ]
     },
     "execution_count": 6,
     "metadata": {},
     "output_type": "execute_result"
    }
   ],
   "source": [
    "df.columns"
   ]
  },
  {
   "cell_type": "markdown",
   "id": "cafe7096-a636-4e02-bf4c-601afe1ff4cc",
   "metadata": {},
   "source": [
    "## TODO\n",
    "1) Make 1-2 more low-fidelity prototype\n",
    "2) Filter Destinations with very low number of trips. Leave only most popular\n",
    "3) Describe dataset in details and describe the goals "
   ]
  },
  {
   "cell_type": "code",
   "execution_count": null,
   "id": "7f5677b2-ecaa-4468-92fa-8948f6450628",
   "metadata": {},
   "outputs": [],
   "source": []
  }
 ],
 "metadata": {
  "kernelspec": {
   "display_name": "Python 3 (ipykernel)",
   "language": "python",
   "name": "python3"
  },
  "language_info": {
   "codemirror_mode": {
    "name": "ipython",
    "version": 3
   },
   "file_extension": ".py",
   "mimetype": "text/x-python",
   "name": "python",
   "nbconvert_exporter": "python",
   "pygments_lexer": "ipython3",
   "version": "3.10.12"
  }
 },
 "nbformat": 4,
 "nbformat_minor": 5
}
