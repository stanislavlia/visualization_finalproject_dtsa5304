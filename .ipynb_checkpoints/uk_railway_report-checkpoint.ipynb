{
 "cells": [
  {
   "cell_type": "markdown",
   "id": "cf442aca-598d-4556-8fc8-d8826d11757d",
   "metadata": {},
   "source": [
    "# UK Railways Ticket Price Dashboard\n",
    "DTSA5304\n",
    "\n",
    "**Stanislav Liashkov**  2024.07.05\n"
   ]
  },
  {
   "cell_type": "markdown",
   "id": "38d6fe2c-b594-4821-9648-ecd6f61245d3",
   "metadata": {},
   "source": [
    "## Introduction\n",
    "\n",
    "This project starts with the basic exploratory data analysis in order to see what kind of data we have and what dimensions\n",
    "are potentially to be the most interesting for *Railway management and stakeholders*. The **goal** of this project is to *design and evaluate a dashboard for monitoring ticket price distribution for different trips*. In this project, **visual task** that we optimize our dashboard for is \"*to discover bussiness-valuable inisghts from data related to ticket price, classes of passengers and payment methods and to be able to quickly get the summary picture for any route*\". \n",
    "\n",
    "In order to achive the goal and help users complete *visual task*, I have prepared a few **Low-fidelity prototypes** of dashboard and select the most suitable one. Once I decided which prototype should be taken, I started to design the dashboard with *more details* and finally implemented the dashboard using **Altair and Streamlit**.\n",
    "\n"
   ]
  },
  {
   "cell_type": "markdown",
   "id": "80832ddc-9331-424d-ad52-49b851bf5c5a",
   "metadata": {},
   "source": [
    "## Data\n",
    "\n",
    "The dataset comes from **Kaggle** ( https://www.kaggle.com/datasets/motsimaslam/national-rail-uk-train-ticket-data) and contains data about **UK Railways Train Tickets** such as *ticket price, type of ticket, payment method, passenger class* etc, **spanning from January to April 2024**. It includes detailed information on various aspects of train journeys, providing insights into the travel patterns and pricing within this period. The dataset encompasses the following key attributes:\n",
    "\n",
    "- **Ticket Type**: The category of the ticket, such as single, return, or season.\n",
    "- **Journey Date & Time**: The date and time for each train journey, including both departure and arrival times.\n",
    "- **Departure Station**: The station from which the journey originates.\n",
    "- **Arrival Station**: The station at which the journey concludes.\n",
    "- **Ticket Price**: The cost of the ticket in GBP.\n",
    "- **Other Details**: Additional information that might include passenger class, train service provider, booking reference, and any applicable discounts or offers.\n",
    "\n",
    "\n",
    "\n"
   ]
  },
  {
   "cell_type": "code",
   "execution_count": 3,
   "id": "a66d844b-5c57-4bd2-9a99-5780e337dcf2",
   "metadata": {},
   "outputs": [
    {
     "name": "stdout",
     "output_type": "stream",
     "text": [
      "<class 'pandas.core.frame.DataFrame'>\n",
      "RangeIndex: 31653 entries, 0 to 31652\n",
      "Data columns (total 18 columns):\n",
      " #   Column               Non-Null Count  Dtype \n",
      "---  ------               --------------  ----- \n",
      " 0   Transaction ID       31653 non-null  object\n",
      " 1   Date of Purchase     31653 non-null  object\n",
      " 2   Time of Purchase     31653 non-null  object\n",
      " 3   Purchase Type        31653 non-null  object\n",
      " 4   Payment Method       31653 non-null  object\n",
      " 5   Railcard             10735 non-null  object\n",
      " 6   Ticket Class         31653 non-null  object\n",
      " 7   Ticket Type          31653 non-null  object\n",
      " 8   Price                31653 non-null  int64 \n",
      " 9   Departure Station    31653 non-null  object\n",
      " 10  Arrival Destination  31653 non-null  object\n",
      " 11  Date of Journey      31653 non-null  object\n",
      " 12  Departure Time       31653 non-null  object\n",
      " 13  Arrival Time         31653 non-null  object\n",
      " 14  Actual Arrival Time  29773 non-null  object\n",
      " 15  Journey Status       31653 non-null  object\n",
      " 16  Reason for Delay     4172 non-null   object\n",
      " 17  Refund Request       31653 non-null  object\n",
      "dtypes: int64(1), object(17)\n",
      "memory usage: 4.3+ MB\n"
     ]
    }
   ],
   "source": [
    "import pandas as pd\n",
    "\n",
    "df = pd.read_csv(\"railway.csv\")\n",
    "df.info()"
   ]
  },
  {
   "cell_type": "markdown",
   "id": "7a5ddc30-7f74-40bf-bf1f-c3b41a535a96",
   "metadata": {},
   "source": [
    "The **key dimensions** for our defined **visual task** are going to be:\n",
    "- Ticket Price\n",
    "- Purchase Type\n",
    "- Ticket Class\n",
    "- Ticket Type\n",
    "- Source & Destination"
   ]
  },
  {
   "cell_type": "markdown",
   "id": "3409f14b-e363-4ff9-a3ff-5af928c9875c",
   "metadata": {},
   "source": [
    "## Sketching prototypes and Designing dashboard\n",
    "\n",
    "### Low-fidelity Prototypes\n",
    "<figure>\n",
    "  <img src=\"assets/prototype1.jpeg\" alt=\"Prototype 1\" width=\"500\" height=\"300\">\n",
    "  <figcaption><b>Prototype 1:</b> Blue colors, barcharts </figcaption>\n",
    "</figure>\n",
    "\n",
    "<figure>\n",
    "  <img src=\"assets/prototype2.jpeg\" alt=\"Prototype 2\" width=\"500\" height=\"300\">\n",
    "  <figcaption><b>Prototype 2:</b> Green colors, smooth histogram + pies</figcaption>\n",
    "</figure>\n",
    "\n",
    "<figure>\n",
    "  <img src=\"assets/prototype3.jpeg\" alt=\"Prototype 3\" width=\"500\" height=\"300\">\n",
    "  <figcaption><b>Prototype 3:</b> Yellow colors, binned histogram + pies</figcaption>\n",
    "</figure>\n",
    "\n"
   ]
  },
  {
   "cell_type": "code",
   "execution_count": null,
   "id": "c3ed98fb-c0b1-43bc-b191-ec396f5605a2",
   "metadata": {},
   "outputs": [],
   "source": []
  },
  {
   "cell_type": "markdown",
   "id": "c78f9acb-5929-4b56-94e7-be470b5709db",
   "metadata": {},
   "source": [
    "https://www.youtube.com/watch?v=pWxDxhWXJos"
   ]
  },
  {
   "cell_type": "code",
   "execution_count": 13,
   "id": "e94d023b-5504-49e7-ab71-e9515d85ea1f",
   "metadata": {},
   "outputs": [
    {
     "data": {
      "text/plain": [
       "Ticket Class\n",
       "First Class    48.855134\n",
       "Standard       20.721175\n",
       "Name: Price, dtype: float64"
      ]
     },
     "execution_count": 13,
     "metadata": {},
     "output_type": "execute_result"
    }
   ],
   "source": [
    "df.groupby(\"Ticket Class\")[\"Price\"].mean()"
   ]
  },
  {
   "cell_type": "code",
   "execution_count": 6,
   "id": "692ad579-acba-4525-951f-c53a79b5afe8",
   "metadata": {},
   "outputs": [
    {
     "data": {
      "text/plain": [
       "Index(['Transaction ID', 'Date of Purchase', 'Time of Purchase',\n",
       "       'Purchase Type', 'Payment Method', 'Railcard', 'Ticket Class',\n",
       "       'Ticket Type', 'Price', 'Departure Station', 'Arrival Destination',\n",
       "       'Date of Journey', 'Departure Time', 'Arrival Time',\n",
       "       'Actual Arrival Time', 'Journey Status', 'Reason for Delay',\n",
       "       'Refund Request'],\n",
       "      dtype='object')"
      ]
     },
     "execution_count": 6,
     "metadata": {},
     "output_type": "execute_result"
    }
   ],
   "source": [
    "df.columns"
   ]
  },
  {
   "cell_type": "markdown",
   "id": "cafe7096-a636-4e02-bf4c-601afe1ff4cc",
   "metadata": {},
   "source": [
    "## TODO\n",
    "1) Make 1-2 more low-fidelity prototype\n",
    "2) Filter Destinations with very low number of trips. Leave only most popular\n",
    "3) Describe dataset in details and describe the goals "
   ]
  },
  {
   "cell_type": "code",
   "execution_count": null,
   "id": "7f5677b2-ecaa-4468-92fa-8948f6450628",
   "metadata": {},
   "outputs": [],
   "source": []
  }
 ],
 "metadata": {
  "kernelspec": {
   "display_name": "Python 3 (ipykernel)",
   "language": "python",
   "name": "python3"
  },
  "language_info": {
   "codemirror_mode": {
    "name": "ipython",
    "version": 3
   },
   "file_extension": ".py",
   "mimetype": "text/x-python",
   "name": "python",
   "nbconvert_exporter": "python",
   "pygments_lexer": "ipython3",
   "version": "3.10.12"
  }
 },
 "nbformat": 4,
 "nbformat_minor": 5
}
